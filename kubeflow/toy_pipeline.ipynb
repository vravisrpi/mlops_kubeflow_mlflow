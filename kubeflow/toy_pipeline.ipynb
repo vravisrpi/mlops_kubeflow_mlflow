{
 "cells": [
  {
   "cell_type": "code",
   "execution_count": null,
   "id": "87dffccb-ec12-49a2-b3fc-35987e694477",
   "metadata": {},
   "outputs": [],
   "source": [
    "!pip3 install kfp --upgrade"
   ]
  },
  {
   "cell_type": "code",
   "execution_count": 1,
   "id": "93d1e95f-df48-422c-a9d8-1e9e9b3208a2",
   "metadata": {},
   "outputs": [],
   "source": [
    "EXPERIMENT_NAME = 'Simple notebook pipeline'        # Name of the experiment in the UI\n",
    "BASE_IMAGE = 'tensorflow/tensorflow:2.0.0b0-py3'"
   ]
  },
  {
   "cell_type": "code",
   "execution_count": 2,
   "id": "af28a3e8-6d1e-447e-9601-35c9b7d52b3a",
   "metadata": {},
   "outputs": [],
   "source": [
    "import kfp\n",
    "import kfp.dsl as dsl\n",
    "from kfp import compiler\n",
    "from kfp import components"
   ]
  },
  {
   "cell_type": "code",
   "execution_count": 3,
   "id": "614e3972-1ba7-4cfd-9d96-03a1e7952e09",
   "metadata": {},
   "outputs": [
    {
     "name": "stderr",
     "output_type": "stream",
     "text": [
      "/tmp/ipykernel_250/3154124481.py:1: DeprecationWarning: Call to deprecated function (or staticmethod) python_component. (This decorator does not seem to be used, so we deprecate it. If you need this decorator, please create an issue at https://github.com/kubeflow/pipelines/issues) -- Deprecated since version 0.2.6.\n",
      "  @dsl.python_component(\n"
     ]
    }
   ],
   "source": [
    "@dsl.python_component(\n",
    "    name='add_op',\n",
    "    description='adds two numbers',\n",
    "    base_image=BASE_IMAGE  # you can define the base image here, or when you build in the next step. \n",
    ")\n",
    "def add(a: float, b: float) -> float:\n",
    "    '''Calculates sum of two arguments'''\n",
    "    print(a, '+', b, '=', a + b)\n",
    "    return a + b"
   ]
  },
  {
   "cell_type": "code",
   "execution_count": 4,
   "id": "13e96c62-a5aa-4ec3-bd2c-3ea812339a63",
   "metadata": {},
   "outputs": [],
   "source": [
    "# Convert the function to a pipeline operation.\n",
    "add_op = components.func_to_container_op(\n",
    "    add,\n",
    "    base_image=BASE_IMAGE, \n",
    ")"
   ]
  },
  {
   "cell_type": "code",
   "execution_count": 5,
   "id": "9387b5a2-8ce0-4f0d-9021-195eaf195643",
   "metadata": {},
   "outputs": [],
   "source": [
    "@dsl.pipeline(\n",
    "   name='Calculation pipeline',\n",
    "   description='A toy pipeline that performs arithmetic calculations.'\n",
    ")\n",
    "def calc_pipeline(\n",
    "   a: float =0,\n",
    "   b: float =7\n",
    "):\n",
    "    #Passing pipeline parameter and a constant value as operation arguments\n",
    "    add_task = add_op(a, 4) #Returns a dsl.ContainerOp class instance. \n",
    "    \n",
    "    #You can create explicit dependency between the tasks using xyz_task.after(abc_task)\n",
    "    add_2_task = add_op(a, b)\n",
    "    \n",
    "    add_3_task = add_op(add_task.output, add_2_task.output)"
   ]
  },
  {
   "cell_type": "code",
   "execution_count": 12,
   "id": "e02d05ae-549c-4769-943a-d620cdddd982",
   "metadata": {},
   "outputs": [
    {
     "data": {
      "text/plain": [
       "\"\\n# Specify pipeline argument values\\narguments = {'a': '7', 'b': '8'}\\n# Launch a pipeline run given the pipeline function definition\\nkfp.Client(host='http://localhost:8080').create_run_from_pipeline_func(calc_pipeline, arguments=arguments, \\n                                           experiment_name=EXPERIMENT_NAME)\\n# The generated links below lead to the Experiment page and the pipeline run details page, respectively\\n\""
      ]
     },
     "execution_count": 12,
     "metadata": {},
     "output_type": "execute_result"
    }
   ],
   "source": [
    "'''\n",
    "# Specify pipeline argument values\n",
    "arguments = {'a': '7', 'b': '8'}\n",
    "# Launch a pipeline run given the pipeline function definition\n",
    "kfp.Client(host='http://localhost:8080').create_run_from_pipeline_func(calc_pipeline, arguments=arguments, \n",
    "                                           experiment_name=EXPERIMENT_NAME)\n",
    "# The generated links below lead to the Experiment page and the pipeline run details page, respectively\n",
    "'''"
   ]
  },
  {
   "cell_type": "code",
   "execution_count": 13,
   "id": "7498eecc-2096-41f9-aa9b-84c21d87ba9f",
   "metadata": {},
   "outputs": [
    {
     "data": {
      "text/plain": [
       "\"\\narguments = {'a': '7', 'b': '8'}\\n# Launch a pipeline run given the pipeline function definition\\nclient.create_run_from_pipeline_func(calc_pipeline, arguments=arguments, \\n                                           experiment_name=EXPERIMENT_NAME)\\n\""
      ]
     },
     "execution_count": 13,
     "metadata": {},
     "output_type": "execute_result"
    }
   ],
   "source": [
    "'''\n",
    "arguments = {'a': '7', 'b': '8'}\n",
    "# Launch a pipeline run given the pipeline function definition\n",
    "client.create_run_from_pipeline_func(calc_pipeline, arguments=arguments, \n",
    "                                           experiment_name=EXPERIMENT_NAME)\n",
    "'''"
   ]
  },
  {
   "cell_type": "code",
   "execution_count": 14,
   "id": "d58c439f-8689-48fb-8611-c280adbfa565",
   "metadata": {},
   "outputs": [],
   "source": [
    "#print(client.list_experiments(namespace='kubeflow'))"
   ]
  },
  {
   "cell_type": "code",
   "execution_count": 15,
   "id": "027ec433-6a01-47e8-ae54-c9fdc6d4868f",
   "metadata": {},
   "outputs": [],
   "source": [
    "import requests"
   ]
  },
  {
   "cell_type": "code",
   "execution_count": 16,
   "id": "e962c13f-fe4e-49ff-9407-02242d8775e1",
   "metadata": {},
   "outputs": [],
   "source": [
    "HOST = \"http://40.70.70.47:8080/\"\n",
    "USERNAME = \"user@example.com\"\n",
    "PASSWORD = \"12341234\"\n",
    "NAMESPACE = \"kubeflow\"\n",
    "\n",
    "session = requests.Session()\n",
    "response = session.get(HOST)\n",
    "\n",
    "headers = {\n",
    "    \"Content-Type\": \"application/x-www-form-urlencoded\",\n",
    "}\n",
    "\n",
    "data = {\"login\": USERNAME, \"password\": PASSWORD}\n",
    "session.post(response.url, headers=headers, data=data)\n",
    "session_cookie = session.cookies.get_dict()[\"authservice_session\"]\n",
    "\n",
    "client = kfp.Client(\n",
    "    host=f\"{HOST}/pipeline\",\n",
    "    cookies=f\"authservice_session={session_cookie}\",\n",
    "    namespace=NAMESPACE,\n",
    ")\n",
    "\n",
    "\n",
    "\n",
    "\n"
   ]
  },
  {
   "cell_type": "code",
   "execution_count": 17,
   "id": "5c030d44-6b5c-4e33-aaf4-0353190c46e2",
   "metadata": {},
   "outputs": [
    {
     "data": {
      "text/html": [
       "<a href=\"http://40.70.70.47:8080//pipeline/#/experiments/details/b685efee-54ea-4f15-9b2a-6e9c17ffea0f\" target=\"_blank\" >Experiment details</a>."
      ],
      "text/plain": [
       "<IPython.core.display.HTML object>"
      ]
     },
     "metadata": {},
     "output_type": "display_data"
    },
    {
     "data": {
      "text/html": [
       "<a href=\"http://40.70.70.47:8080//pipeline/#/runs/details/9b9a8ad2-5ae6-4cad-862c-15e39140445e\" target=\"_blank\" >Run details</a>."
      ],
      "text/plain": [
       "<IPython.core.display.HTML object>"
      ]
     },
     "metadata": {},
     "output_type": "display_data"
    },
    {
     "data": {
      "text/plain": [
       "RunPipelineResult(run_id=9b9a8ad2-5ae6-4cad-862c-15e39140445e)"
      ]
     },
     "execution_count": 17,
     "metadata": {},
     "output_type": "execute_result"
    }
   ],
   "source": [
    "arguments = {'a': '9', 'b': '10'}\n",
    "# Launch a pipeline run given the pipeline function definition\n",
    "client.create_run_from_pipeline_func(calc_pipeline, arguments=arguments, \n",
    "                                           experiment_name=EXPERIMENT_NAME)"
   ]
  },
  {
   "cell_type": "code",
   "execution_count": null,
   "id": "3c985013-7138-457c-9e2f-2bd74317566b",
   "metadata": {},
   "outputs": [],
   "source": []
  },
  {
   "cell_type": "code",
   "execution_count": null,
   "id": "dc3b5472-cbb3-4d78-baef-91ae57f510d4",
   "metadata": {},
   "outputs": [],
   "source": []
  }
 ],
 "metadata": {
  "kernelspec": {
   "display_name": "Python 3 (ipykernel)",
   "language": "python",
   "name": "python3"
  },
  "language_info": {
   "codemirror_mode": {
    "name": "ipython",
    "version": 3
   },
   "file_extension": ".py",
   "mimetype": "text/x-python",
   "name": "python",
   "nbconvert_exporter": "python",
   "pygments_lexer": "ipython3",
   "version": "3.8.10"
  }
 },
 "nbformat": 4,
 "nbformat_minor": 5
}
