{
 "cells": [
  {
   "cell_type": "code",
   "execution_count": 35,
   "id": "cee3fa3e-1c58-47d0-96ea-cf88a136d4b5",
   "metadata": {},
   "outputs": [],
   "source": [
    "import kfp\n",
    "import kfp.dsl as dsl\n",
    "from kfp import compiler\n",
    "from kfp import components\n",
    "\n",
    "import os\n",
    "import yaml"
   ]
  },
  {
   "cell_type": "code",
   "execution_count": 36,
   "id": "eae7d1bd-3f8e-4ae7-8e1b-96f9eb5ddb5a",
   "metadata": {},
   "outputs": [],
   "source": [
    "from kfp.v2.dsl import (Artifact,\n",
    "\t\t\t\t\t\tDataset,\n",
    "\t\t\t\t\t\tInput,\n",
    "\t\t\t\t\t\tModel,\n",
    "\t\t\t\t\t\tOutput,\n",
    "\t\t\t\t\t\tMetrics,\n",
    "\t\t\t\t\t\tClassificationMetrics,\n",
    "\t\t\t\t\t\tcomponent)"
   ]
  },
  {
   "cell_type": "code",
   "execution_count": 60,
   "id": "462868af-3918-4161-9bb0-43455de771d8",
   "metadata": {},
   "outputs": [],
   "source": [
    "def read_params(config_path):\n",
    "    with open (config_path) as yaml_file:\n",
    "        config = yaml.safe_load(yaml_file)\n",
    "    return config"
   ]
  },
  {
   "cell_type": "code",
   "execution_count": 85,
   "id": "2166ab62-f084-42f7-acaf-675fb909c6ce",
   "metadata": {},
   "outputs": [
    {
     "name": "stdout",
     "output_type": "stream",
     "text": [
      "Help on function load_component_from_file in module kfp.components._components:\n",
      "\n",
      "load_component_from_file(filename)\n",
      "    Loads component from file and creates a task factory function.\n",
      "    \n",
      "    Args:\n",
      "        filename: Path of local file containing the component definition.\n",
      "    \n",
      "    Returns:\n",
      "        A factory function with a strongly-typed signature.\n",
      "        Once called with the required arguments, the factory constructs a pipeline task instance (ContainerOp).\n",
      "\n"
     ]
    }
   ],
   "source": [
    "help(kfp.components.load_component_from_file)"
   ]
  },
  {
   "cell_type": "code",
   "execution_count": 95,
   "id": "ac825523-7e89-4e49-8b46-e0838c02bbe5",
   "metadata": {},
   "outputs": [],
   "source": [
    "@component(packages_to_install = [\"pandas\"],)\n",
    "def load_data(config_path):\n",
    "    #print(\"hello world\")\n",
    "    #import yaml\n",
    "    kfp.components.load_component_from_file('params.yaml')\n",
    "    #with open (config_path) as yaml_file:\n",
    "    #    config = yaml.safe_load(yaml_file)\n",
    "    #config = read_params(config_path='params.yaml')\n",
    "    #data_path = config[\"data_source\"][\"s3_source\"]\n",
    "    #df=pd.read_csv(data_path, sep=\",\", encoding=\"utf-8\")\n",
    "    ##print(df.head())\n",
    "    #return df\n"
   ]
  },
  {
   "cell_type": "code",
   "execution_count": 96,
   "id": "a74802bd-895d-44d7-9c89-a266defce496",
   "metadata": {},
   "outputs": [],
   "source": [
    "@dsl.pipeline(\n",
    "   name='Winequality pipeline',\n",
    "   description='Pipeline to get data, split data, train , save model.'\n",
    ")\n",
    "def pipeline_wfq(\n",
    "    config_path\n",
    "):\n",
    "    flow_op1 = load_data(config_path)\n",
    "    #print(flow_op1)\n",
    "    #flow_op2 = split_data()\n",
    "    #flow_op3 = train_evalauate()\n",
    "     "
   ]
  },
  {
   "cell_type": "code",
   "execution_count": 97,
   "id": "976610ae-dddf-47ae-aa26-22ea4607cee1",
   "metadata": {},
   "outputs": [],
   "source": [
    "import requests\n",
    "\n",
    "HOST = \"http://40.70.70.47:8080/\"\n",
    "USERNAME = \"user@example.com\"\n",
    "PASSWORD = \"12341234\"\n",
    "NAMESPACE = \"kubeflow\"\n",
    "\n",
    "session = requests.Session()\n",
    "response = session.get(HOST)\n",
    "\n",
    "headers = {\n",
    "    \"Content-Type\": \"application/x-www-form-urlencoded\",\n",
    "}\n",
    "\n",
    "data = {\"login\": USERNAME, \"password\": PASSWORD}\n",
    "session.post(response.url, headers=headers, data=data)\n",
    "session_cookie = session.cookies.get_dict()[\"authservice_session\"]\n",
    "\n",
    "client = kfp.Client(\n",
    "    host=f\"{HOST}/pipeline\",\n",
    "    cookies=f\"authservice_session={session_cookie}\",\n",
    "    namespace=NAMESPACE,\n",
    ")"
   ]
  },
  {
   "cell_type": "code",
   "execution_count": 98,
   "id": "e8073e36-78fb-483c-9ccf-9ed2f9f9deea",
   "metadata": {},
   "outputs": [
    {
     "data": {
      "text/html": [
       "<a href=\"http://40.70.70.47:8080//pipeline/#/experiments/details/d42c6106-535b-4a9d-89c8-ffa61e76a1a1\" target=\"_blank\" >Experiment details</a>."
      ],
      "text/plain": [
       "<IPython.core.display.HTML object>"
      ]
     },
     "metadata": {},
     "output_type": "display_data"
    },
    {
     "data": {
      "text/html": [
       "<a href=\"http://40.70.70.47:8080//pipeline/#/runs/details/79e13b4d-1fb0-4f8d-83e9-bfe88e9ecbed\" target=\"_blank\" >Run details</a>."
      ],
      "text/plain": [
       "<IPython.core.display.HTML object>"
      ]
     },
     "metadata": {},
     "output_type": "display_data"
    },
    {
     "data": {
      "text/plain": [
       "RunPipelineResult(run_id=79e13b4d-1fb0-4f8d-83e9-bfe88e9ecbed)"
      ]
     },
     "execution_count": 98,
     "metadata": {},
     "output_type": "execute_result"
    }
   ],
   "source": [
    "arguments = {'config_path':'params.yaml'}\n",
    "client.create_run_from_pipeline_func(pipeline_wfq, arguments=arguments, \n",
    "                                           experiment_name=\"load_data\")"
   ]
  },
  {
   "cell_type": "code",
   "execution_count": null,
   "id": "1b12bb85-3818-4a78-870f-0049fdae5ddc",
   "metadata": {},
   "outputs": [],
   "source": []
  }
 ],
 "metadata": {
  "kernelspec": {
   "display_name": "Python 3 (ipykernel)",
   "language": "python",
   "name": "python3"
  },
  "language_info": {
   "codemirror_mode": {
    "name": "ipython",
    "version": 3
   },
   "file_extension": ".py",
   "mimetype": "text/x-python",
   "name": "python",
   "nbconvert_exporter": "python",
   "pygments_lexer": "ipython3",
   "version": "3.8.10"
  }
 },
 "nbformat": 4,
 "nbformat_minor": 5
}
